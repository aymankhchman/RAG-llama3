{
  "nbformat": 4,
  "nbformat_minor": 0,
  "metadata": {
    "colab": {
      "provenance": [],
      "gpuType": "A100",
      "authorship_tag": "ABX9TyNYy71AfVHN+KUdYHRcRGNJ",
      "include_colab_link": true
    },
    "kernelspec": {
      "name": "python3",
      "display_name": "Python 3"
    },
    "language_info": {
      "name": "python"
    },
    "accelerator": "GPU",
    "widgets": {
      "application/vnd.jupyter.widget-state+json": {
        "de852214ef8943dbab3e5a4c512faae8": {
          "model_module": "@jupyter-widgets/controls",
          "model_name": "VBoxModel",
          "model_module_version": "1.5.0",
          "state": {
            "_dom_classes": [],
            "_model_module": "@jupyter-widgets/controls",
            "_model_module_version": "1.5.0",
            "_model_name": "VBoxModel",
            "_view_count": null,
            "_view_module": "@jupyter-widgets/controls",
            "_view_module_version": "1.5.0",
            "_view_name": "VBoxView",
            "box_style": "",
            "children": [
              "IPY_MODEL_adc6e4ce7b2542e9a4e6ee140afb7f4e",
              "IPY_MODEL_a6a68c0656a14bfd9f6a41f174d30524",
              "IPY_MODEL_5843b66578c14bba8281058434747326",
              "IPY_MODEL_dfba5c157468459481289d28e780185a"
            ],
            "layout": "IPY_MODEL_5065f2848e024569bd3695e5e94ec0a0"
          }
        },
        "2aa2df07b2834f6394508d70f8a65a3c": {
          "model_module": "@jupyter-widgets/controls",
          "model_name": "HTMLModel",
          "model_module_version": "1.5.0",
          "state": {
            "_dom_classes": [],
            "_model_module": "@jupyter-widgets/controls",
            "_model_module_version": "1.5.0",
            "_model_name": "HTMLModel",
            "_view_count": null,
            "_view_module": "@jupyter-widgets/controls",
            "_view_module_version": "1.5.0",
            "_view_name": "HTMLView",
            "description": "",
            "description_tooltip": null,
            "layout": "IPY_MODEL_c2de5bcad2ce490c94a9235a89f9d6d5",
            "placeholder": "​",
            "style": "IPY_MODEL_c16d114ee87b44768dc64eeec3393bef",
            "value": "<center> <img\nsrc=https://huggingface.co/front/assets/huggingface_logo-noborder.svg\nalt='Hugging Face'> <br> Copy a token from <a\nhref=\"https://huggingface.co/settings/tokens\" target=\"_blank\">your Hugging Face\ntokens page</a> and paste it below. <br> Immediately click login after copying\nyour token or it might be stored in plain text in this notebook file. </center>"
          }
        },
        "318e58da0c9b48619880ebd3d5be77f0": {
          "model_module": "@jupyter-widgets/controls",
          "model_name": "PasswordModel",
          "model_module_version": "1.5.0",
          "state": {
            "_dom_classes": [],
            "_model_module": "@jupyter-widgets/controls",
            "_model_module_version": "1.5.0",
            "_model_name": "PasswordModel",
            "_view_count": null,
            "_view_module": "@jupyter-widgets/controls",
            "_view_module_version": "1.5.0",
            "_view_name": "PasswordView",
            "continuous_update": true,
            "description": "Token:",
            "description_tooltip": null,
            "disabled": false,
            "layout": "IPY_MODEL_cf080936ccfc4675b645f06898ff6ffc",
            "placeholder": "​",
            "style": "IPY_MODEL_9b4bcf7a446a411b9c31992af45da7fa",
            "value": ""
          }
        },
        "09e33cbcc1f448a0afcd7cd0ac6670f8": {
          "model_module": "@jupyter-widgets/controls",
          "model_name": "CheckboxModel",
          "model_module_version": "1.5.0",
          "state": {
            "_dom_classes": [],
            "_model_module": "@jupyter-widgets/controls",
            "_model_module_version": "1.5.0",
            "_model_name": "CheckboxModel",
            "_view_count": null,
            "_view_module": "@jupyter-widgets/controls",
            "_view_module_version": "1.5.0",
            "_view_name": "CheckboxView",
            "description": "Add token as git credential?",
            "description_tooltip": null,
            "disabled": false,
            "indent": true,
            "layout": "IPY_MODEL_7ff67a2faa1843f49ff3fff39753d0dd",
            "style": "IPY_MODEL_27852bf8a16b4504a74aab362c136037",
            "value": true
          }
        },
        "1504930422c540a28a3b3c37c2cf01be": {
          "model_module": "@jupyter-widgets/controls",
          "model_name": "ButtonModel",
          "model_module_version": "1.5.0",
          "state": {
            "_dom_classes": [],
            "_model_module": "@jupyter-widgets/controls",
            "_model_module_version": "1.5.0",
            "_model_name": "ButtonModel",
            "_view_count": null,
            "_view_module": "@jupyter-widgets/controls",
            "_view_module_version": "1.5.0",
            "_view_name": "ButtonView",
            "button_style": "",
            "description": "Login",
            "disabled": false,
            "icon": "",
            "layout": "IPY_MODEL_f1f44a0c19c0464295f55660d5727583",
            "style": "IPY_MODEL_b90856ab271b45e1ad941d70092b7b8c",
            "tooltip": ""
          }
        },
        "5f25dd8ce7354c3a8d47a26a1b5104eb": {
          "model_module": "@jupyter-widgets/controls",
          "model_name": "HTMLModel",
          "model_module_version": "1.5.0",
          "state": {
            "_dom_classes": [],
            "_model_module": "@jupyter-widgets/controls",
            "_model_module_version": "1.5.0",
            "_model_name": "HTMLModel",
            "_view_count": null,
            "_view_module": "@jupyter-widgets/controls",
            "_view_module_version": "1.5.0",
            "_view_name": "HTMLView",
            "description": "",
            "description_tooltip": null,
            "layout": "IPY_MODEL_4a13b1bc5c8f4c4dbd7b3d27b5b99607",
            "placeholder": "​",
            "style": "IPY_MODEL_bc7a88161c3241d0b4da884dc06ec352",
            "value": "\n<b>Pro Tip:</b> If you don't already have one, you can create a dedicated\n'notebooks' token with 'write' access, that you can then easily reuse for all\nnotebooks. </center>"
          }
        },
        "5065f2848e024569bd3695e5e94ec0a0": {
          "model_module": "@jupyter-widgets/base",
          "model_name": "LayoutModel",
          "model_module_version": "1.2.0",
          "state": {
            "_model_module": "@jupyter-widgets/base",
            "_model_module_version": "1.2.0",
            "_model_name": "LayoutModel",
            "_view_count": null,
            "_view_module": "@jupyter-widgets/base",
            "_view_module_version": "1.2.0",
            "_view_name": "LayoutView",
            "align_content": null,
            "align_items": "center",
            "align_self": null,
            "border": null,
            "bottom": null,
            "display": "flex",
            "flex": null,
            "flex_flow": "column",
            "grid_area": null,
            "grid_auto_columns": null,
            "grid_auto_flow": null,
            "grid_auto_rows": null,
            "grid_column": null,
            "grid_gap": null,
            "grid_row": null,
            "grid_template_areas": null,
            "grid_template_columns": null,
            "grid_template_rows": null,
            "height": null,
            "justify_content": null,
            "justify_items": null,
            "left": null,
            "margin": null,
            "max_height": null,
            "max_width": null,
            "min_height": null,
            "min_width": null,
            "object_fit": null,
            "object_position": null,
            "order": null,
            "overflow": null,
            "overflow_x": null,
            "overflow_y": null,
            "padding": null,
            "right": null,
            "top": null,
            "visibility": null,
            "width": "50%"
          }
        },
        "c2de5bcad2ce490c94a9235a89f9d6d5": {
          "model_module": "@jupyter-widgets/base",
          "model_name": "LayoutModel",
          "model_module_version": "1.2.0",
          "state": {
            "_model_module": "@jupyter-widgets/base",
            "_model_module_version": "1.2.0",
            "_model_name": "LayoutModel",
            "_view_count": null,
            "_view_module": "@jupyter-widgets/base",
            "_view_module_version": "1.2.0",
            "_view_name": "LayoutView",
            "align_content": null,
            "align_items": null,
            "align_self": null,
            "border": null,
            "bottom": null,
            "display": null,
            "flex": null,
            "flex_flow": null,
            "grid_area": null,
            "grid_auto_columns": null,
            "grid_auto_flow": null,
            "grid_auto_rows": null,
            "grid_column": null,
            "grid_gap": null,
            "grid_row": null,
            "grid_template_areas": null,
            "grid_template_columns": null,
            "grid_template_rows": null,
            "height": null,
            "justify_content": null,
            "justify_items": null,
            "left": null,
            "margin": null,
            "max_height": null,
            "max_width": null,
            "min_height": null,
            "min_width": null,
            "object_fit": null,
            "object_position": null,
            "order": null,
            "overflow": null,
            "overflow_x": null,
            "overflow_y": null,
            "padding": null,
            "right": null,
            "top": null,
            "visibility": null,
            "width": null
          }
        },
        "c16d114ee87b44768dc64eeec3393bef": {
          "model_module": "@jupyter-widgets/controls",
          "model_name": "DescriptionStyleModel",
          "model_module_version": "1.5.0",
          "state": {
            "_model_module": "@jupyter-widgets/controls",
            "_model_module_version": "1.5.0",
            "_model_name": "DescriptionStyleModel",
            "_view_count": null,
            "_view_module": "@jupyter-widgets/base",
            "_view_module_version": "1.2.0",
            "_view_name": "StyleView",
            "description_width": ""
          }
        },
        "cf080936ccfc4675b645f06898ff6ffc": {
          "model_module": "@jupyter-widgets/base",
          "model_name": "LayoutModel",
          "model_module_version": "1.2.0",
          "state": {
            "_model_module": "@jupyter-widgets/base",
            "_model_module_version": "1.2.0",
            "_model_name": "LayoutModel",
            "_view_count": null,
            "_view_module": "@jupyter-widgets/base",
            "_view_module_version": "1.2.0",
            "_view_name": "LayoutView",
            "align_content": null,
            "align_items": null,
            "align_self": null,
            "border": null,
            "bottom": null,
            "display": null,
            "flex": null,
            "flex_flow": null,
            "grid_area": null,
            "grid_auto_columns": null,
            "grid_auto_flow": null,
            "grid_auto_rows": null,
            "grid_column": null,
            "grid_gap": null,
            "grid_row": null,
            "grid_template_areas": null,
            "grid_template_columns": null,
            "grid_template_rows": null,
            "height": null,
            "justify_content": null,
            "justify_items": null,
            "left": null,
            "margin": null,
            "max_height": null,
            "max_width": null,
            "min_height": null,
            "min_width": null,
            "object_fit": null,
            "object_position": null,
            "order": null,
            "overflow": null,
            "overflow_x": null,
            "overflow_y": null,
            "padding": null,
            "right": null,
            "top": null,
            "visibility": null,
            "width": null
          }
        },
        "9b4bcf7a446a411b9c31992af45da7fa": {
          "model_module": "@jupyter-widgets/controls",
          "model_name": "DescriptionStyleModel",
          "model_module_version": "1.5.0",
          "state": {
            "_model_module": "@jupyter-widgets/controls",
            "_model_module_version": "1.5.0",
            "_model_name": "DescriptionStyleModel",
            "_view_count": null,
            "_view_module": "@jupyter-widgets/base",
            "_view_module_version": "1.2.0",
            "_view_name": "StyleView",
            "description_width": ""
          }
        },
        "7ff67a2faa1843f49ff3fff39753d0dd": {
          "model_module": "@jupyter-widgets/base",
          "model_name": "LayoutModel",
          "model_module_version": "1.2.0",
          "state": {
            "_model_module": "@jupyter-widgets/base",
            "_model_module_version": "1.2.0",
            "_model_name": "LayoutModel",
            "_view_count": null,
            "_view_module": "@jupyter-widgets/base",
            "_view_module_version": "1.2.0",
            "_view_name": "LayoutView",
            "align_content": null,
            "align_items": null,
            "align_self": null,
            "border": null,
            "bottom": null,
            "display": null,
            "flex": null,
            "flex_flow": null,
            "grid_area": null,
            "grid_auto_columns": null,
            "grid_auto_flow": null,
            "grid_auto_rows": null,
            "grid_column": null,
            "grid_gap": null,
            "grid_row": null,
            "grid_template_areas": null,
            "grid_template_columns": null,
            "grid_template_rows": null,
            "height": null,
            "justify_content": null,
            "justify_items": null,
            "left": null,
            "margin": null,
            "max_height": null,
            "max_width": null,
            "min_height": null,
            "min_width": null,
            "object_fit": null,
            "object_position": null,
            "order": null,
            "overflow": null,
            "overflow_x": null,
            "overflow_y": null,
            "padding": null,
            "right": null,
            "top": null,
            "visibility": null,
            "width": null
          }
        },
        "27852bf8a16b4504a74aab362c136037": {
          "model_module": "@jupyter-widgets/controls",
          "model_name": "DescriptionStyleModel",
          "model_module_version": "1.5.0",
          "state": {
            "_model_module": "@jupyter-widgets/controls",
            "_model_module_version": "1.5.0",
            "_model_name": "DescriptionStyleModel",
            "_view_count": null,
            "_view_module": "@jupyter-widgets/base",
            "_view_module_version": "1.2.0",
            "_view_name": "StyleView",
            "description_width": ""
          }
        },
        "f1f44a0c19c0464295f55660d5727583": {
          "model_module": "@jupyter-widgets/base",
          "model_name": "LayoutModel",
          "model_module_version": "1.2.0",
          "state": {
            "_model_module": "@jupyter-widgets/base",
            "_model_module_version": "1.2.0",
            "_model_name": "LayoutModel",
            "_view_count": null,
            "_view_module": "@jupyter-widgets/base",
            "_view_module_version": "1.2.0",
            "_view_name": "LayoutView",
            "align_content": null,
            "align_items": null,
            "align_self": null,
            "border": null,
            "bottom": null,
            "display": null,
            "flex": null,
            "flex_flow": null,
            "grid_area": null,
            "grid_auto_columns": null,
            "grid_auto_flow": null,
            "grid_auto_rows": null,
            "grid_column": null,
            "grid_gap": null,
            "grid_row": null,
            "grid_template_areas": null,
            "grid_template_columns": null,
            "grid_template_rows": null,
            "height": null,
            "justify_content": null,
            "justify_items": null,
            "left": null,
            "margin": null,
            "max_height": null,
            "max_width": null,
            "min_height": null,
            "min_width": null,
            "object_fit": null,
            "object_position": null,
            "order": null,
            "overflow": null,
            "overflow_x": null,
            "overflow_y": null,
            "padding": null,
            "right": null,
            "top": null,
            "visibility": null,
            "width": null
          }
        },
        "b90856ab271b45e1ad941d70092b7b8c": {
          "model_module": "@jupyter-widgets/controls",
          "model_name": "ButtonStyleModel",
          "model_module_version": "1.5.0",
          "state": {
            "_model_module": "@jupyter-widgets/controls",
            "_model_module_version": "1.5.0",
            "_model_name": "ButtonStyleModel",
            "_view_count": null,
            "_view_module": "@jupyter-widgets/base",
            "_view_module_version": "1.2.0",
            "_view_name": "StyleView",
            "button_color": null,
            "font_weight": ""
          }
        },
        "4a13b1bc5c8f4c4dbd7b3d27b5b99607": {
          "model_module": "@jupyter-widgets/base",
          "model_name": "LayoutModel",
          "model_module_version": "1.2.0",
          "state": {
            "_model_module": "@jupyter-widgets/base",
            "_model_module_version": "1.2.0",
            "_model_name": "LayoutModel",
            "_view_count": null,
            "_view_module": "@jupyter-widgets/base",
            "_view_module_version": "1.2.0",
            "_view_name": "LayoutView",
            "align_content": null,
            "align_items": null,
            "align_self": null,
            "border": null,
            "bottom": null,
            "display": null,
            "flex": null,
            "flex_flow": null,
            "grid_area": null,
            "grid_auto_columns": null,
            "grid_auto_flow": null,
            "grid_auto_rows": null,
            "grid_column": null,
            "grid_gap": null,
            "grid_row": null,
            "grid_template_areas": null,
            "grid_template_columns": null,
            "grid_template_rows": null,
            "height": null,
            "justify_content": null,
            "justify_items": null,
            "left": null,
            "margin": null,
            "max_height": null,
            "max_width": null,
            "min_height": null,
            "min_width": null,
            "object_fit": null,
            "object_position": null,
            "order": null,
            "overflow": null,
            "overflow_x": null,
            "overflow_y": null,
            "padding": null,
            "right": null,
            "top": null,
            "visibility": null,
            "width": null
          }
        },
        "bc7a88161c3241d0b4da884dc06ec352": {
          "model_module": "@jupyter-widgets/controls",
          "model_name": "DescriptionStyleModel",
          "model_module_version": "1.5.0",
          "state": {
            "_model_module": "@jupyter-widgets/controls",
            "_model_module_version": "1.5.0",
            "_model_name": "DescriptionStyleModel",
            "_view_count": null,
            "_view_module": "@jupyter-widgets/base",
            "_view_module_version": "1.2.0",
            "_view_name": "StyleView",
            "description_width": ""
          }
        },
        "2119c4a3977b4dc6b7f1deaa3628269b": {
          "model_module": "@jupyter-widgets/controls",
          "model_name": "LabelModel",
          "model_module_version": "1.5.0",
          "state": {
            "_dom_classes": [],
            "_model_module": "@jupyter-widgets/controls",
            "_model_module_version": "1.5.0",
            "_model_name": "LabelModel",
            "_view_count": null,
            "_view_module": "@jupyter-widgets/controls",
            "_view_module_version": "1.5.0",
            "_view_name": "LabelView",
            "description": "",
            "description_tooltip": null,
            "layout": "IPY_MODEL_325ea2481c6744b48d7fb77a179594f4",
            "placeholder": "​",
            "style": "IPY_MODEL_9d7d148921ce47bc9a087663dd9f5e23",
            "value": "Connecting..."
          }
        },
        "325ea2481c6744b48d7fb77a179594f4": {
          "model_module": "@jupyter-widgets/base",
          "model_name": "LayoutModel",
          "model_module_version": "1.2.0",
          "state": {
            "_model_module": "@jupyter-widgets/base",
            "_model_module_version": "1.2.0",
            "_model_name": "LayoutModel",
            "_view_count": null,
            "_view_module": "@jupyter-widgets/base",
            "_view_module_version": "1.2.0",
            "_view_name": "LayoutView",
            "align_content": null,
            "align_items": null,
            "align_self": null,
            "border": null,
            "bottom": null,
            "display": null,
            "flex": null,
            "flex_flow": null,
            "grid_area": null,
            "grid_auto_columns": null,
            "grid_auto_flow": null,
            "grid_auto_rows": null,
            "grid_column": null,
            "grid_gap": null,
            "grid_row": null,
            "grid_template_areas": null,
            "grid_template_columns": null,
            "grid_template_rows": null,
            "height": null,
            "justify_content": null,
            "justify_items": null,
            "left": null,
            "margin": null,
            "max_height": null,
            "max_width": null,
            "min_height": null,
            "min_width": null,
            "object_fit": null,
            "object_position": null,
            "order": null,
            "overflow": null,
            "overflow_x": null,
            "overflow_y": null,
            "padding": null,
            "right": null,
            "top": null,
            "visibility": null,
            "width": null
          }
        },
        "9d7d148921ce47bc9a087663dd9f5e23": {
          "model_module": "@jupyter-widgets/controls",
          "model_name": "DescriptionStyleModel",
          "model_module_version": "1.5.0",
          "state": {
            "_model_module": "@jupyter-widgets/controls",
            "_model_module_version": "1.5.0",
            "_model_name": "DescriptionStyleModel",
            "_view_count": null,
            "_view_module": "@jupyter-widgets/base",
            "_view_module_version": "1.2.0",
            "_view_name": "StyleView",
            "description_width": ""
          }
        },
        "adc6e4ce7b2542e9a4e6ee140afb7f4e": {
          "model_module": "@jupyter-widgets/controls",
          "model_name": "LabelModel",
          "model_module_version": "1.5.0",
          "state": {
            "_dom_classes": [],
            "_model_module": "@jupyter-widgets/controls",
            "_model_module_version": "1.5.0",
            "_model_name": "LabelModel",
            "_view_count": null,
            "_view_module": "@jupyter-widgets/controls",
            "_view_module_version": "1.5.0",
            "_view_name": "LabelView",
            "description": "",
            "description_tooltip": null,
            "layout": "IPY_MODEL_ba51d9c177be4a0682825b1fdedd84b5",
            "placeholder": "​",
            "style": "IPY_MODEL_2f7cf7223fc5456882cead186e49cf1d",
            "value": "Token is valid (permission: read)."
          }
        },
        "a6a68c0656a14bfd9f6a41f174d30524": {
          "model_module": "@jupyter-widgets/controls",
          "model_name": "LabelModel",
          "model_module_version": "1.5.0",
          "state": {
            "_dom_classes": [],
            "_model_module": "@jupyter-widgets/controls",
            "_model_module_version": "1.5.0",
            "_model_name": "LabelModel",
            "_view_count": null,
            "_view_module": "@jupyter-widgets/controls",
            "_view_module_version": "1.5.0",
            "_view_name": "LabelView",
            "description": "",
            "description_tooltip": null,
            "layout": "IPY_MODEL_cf5be51f1d56413487fe508910fbb845",
            "placeholder": "​",
            "style": "IPY_MODEL_983daa8066e84a33b4ef793afcf153d0",
            "value": "Your token has been saved in your configured git credential helpers (store)."
          }
        },
        "5843b66578c14bba8281058434747326": {
          "model_module": "@jupyter-widgets/controls",
          "model_name": "LabelModel",
          "model_module_version": "1.5.0",
          "state": {
            "_dom_classes": [],
            "_model_module": "@jupyter-widgets/controls",
            "_model_module_version": "1.5.0",
            "_model_name": "LabelModel",
            "_view_count": null,
            "_view_module": "@jupyter-widgets/controls",
            "_view_module_version": "1.5.0",
            "_view_name": "LabelView",
            "description": "",
            "description_tooltip": null,
            "layout": "IPY_MODEL_415cdaf63b154320bcfd4cca9ebcf785",
            "placeholder": "​",
            "style": "IPY_MODEL_e708a2ea5f44477ebf7820078a78f72e",
            "value": "Your token has been saved to /root/.cache/huggingface/token"
          }
        },
        "dfba5c157468459481289d28e780185a": {
          "model_module": "@jupyter-widgets/controls",
          "model_name": "LabelModel",
          "model_module_version": "1.5.0",
          "state": {
            "_dom_classes": [],
            "_model_module": "@jupyter-widgets/controls",
            "_model_module_version": "1.5.0",
            "_model_name": "LabelModel",
            "_view_count": null,
            "_view_module": "@jupyter-widgets/controls",
            "_view_module_version": "1.5.0",
            "_view_name": "LabelView",
            "description": "",
            "description_tooltip": null,
            "layout": "IPY_MODEL_8839ee86f7f3487fbfe6556e0f4e6a20",
            "placeholder": "​",
            "style": "IPY_MODEL_b36f9c36eef447eda5ac7018e837ac3f",
            "value": "Login successful"
          }
        },
        "ba51d9c177be4a0682825b1fdedd84b5": {
          "model_module": "@jupyter-widgets/base",
          "model_name": "LayoutModel",
          "model_module_version": "1.2.0",
          "state": {
            "_model_module": "@jupyter-widgets/base",
            "_model_module_version": "1.2.0",
            "_model_name": "LayoutModel",
            "_view_count": null,
            "_view_module": "@jupyter-widgets/base",
            "_view_module_version": "1.2.0",
            "_view_name": "LayoutView",
            "align_content": null,
            "align_items": null,
            "align_self": null,
            "border": null,
            "bottom": null,
            "display": null,
            "flex": null,
            "flex_flow": null,
            "grid_area": null,
            "grid_auto_columns": null,
            "grid_auto_flow": null,
            "grid_auto_rows": null,
            "grid_column": null,
            "grid_gap": null,
            "grid_row": null,
            "grid_template_areas": null,
            "grid_template_columns": null,
            "grid_template_rows": null,
            "height": null,
            "justify_content": null,
            "justify_items": null,
            "left": null,
            "margin": null,
            "max_height": null,
            "max_width": null,
            "min_height": null,
            "min_width": null,
            "object_fit": null,
            "object_position": null,
            "order": null,
            "overflow": null,
            "overflow_x": null,
            "overflow_y": null,
            "padding": null,
            "right": null,
            "top": null,
            "visibility": null,
            "width": null
          }
        },
        "2f7cf7223fc5456882cead186e49cf1d": {
          "model_module": "@jupyter-widgets/controls",
          "model_name": "DescriptionStyleModel",
          "model_module_version": "1.5.0",
          "state": {
            "_model_module": "@jupyter-widgets/controls",
            "_model_module_version": "1.5.0",
            "_model_name": "DescriptionStyleModel",
            "_view_count": null,
            "_view_module": "@jupyter-widgets/base",
            "_view_module_version": "1.2.0",
            "_view_name": "StyleView",
            "description_width": ""
          }
        },
        "cf5be51f1d56413487fe508910fbb845": {
          "model_module": "@jupyter-widgets/base",
          "model_name": "LayoutModel",
          "model_module_version": "1.2.0",
          "state": {
            "_model_module": "@jupyter-widgets/base",
            "_model_module_version": "1.2.0",
            "_model_name": "LayoutModel",
            "_view_count": null,
            "_view_module": "@jupyter-widgets/base",
            "_view_module_version": "1.2.0",
            "_view_name": "LayoutView",
            "align_content": null,
            "align_items": null,
            "align_self": null,
            "border": null,
            "bottom": null,
            "display": null,
            "flex": null,
            "flex_flow": null,
            "grid_area": null,
            "grid_auto_columns": null,
            "grid_auto_flow": null,
            "grid_auto_rows": null,
            "grid_column": null,
            "grid_gap": null,
            "grid_row": null,
            "grid_template_areas": null,
            "grid_template_columns": null,
            "grid_template_rows": null,
            "height": null,
            "justify_content": null,
            "justify_items": null,
            "left": null,
            "margin": null,
            "max_height": null,
            "max_width": null,
            "min_height": null,
            "min_width": null,
            "object_fit": null,
            "object_position": null,
            "order": null,
            "overflow": null,
            "overflow_x": null,
            "overflow_y": null,
            "padding": null,
            "right": null,
            "top": null,
            "visibility": null,
            "width": null
          }
        },
        "983daa8066e84a33b4ef793afcf153d0": {
          "model_module": "@jupyter-widgets/controls",
          "model_name": "DescriptionStyleModel",
          "model_module_version": "1.5.0",
          "state": {
            "_model_module": "@jupyter-widgets/controls",
            "_model_module_version": "1.5.0",
            "_model_name": "DescriptionStyleModel",
            "_view_count": null,
            "_view_module": "@jupyter-widgets/base",
            "_view_module_version": "1.2.0",
            "_view_name": "StyleView",
            "description_width": ""
          }
        },
        "415cdaf63b154320bcfd4cca9ebcf785": {
          "model_module": "@jupyter-widgets/base",
          "model_name": "LayoutModel",
          "model_module_version": "1.2.0",
          "state": {
            "_model_module": "@jupyter-widgets/base",
            "_model_module_version": "1.2.0",
            "_model_name": "LayoutModel",
            "_view_count": null,
            "_view_module": "@jupyter-widgets/base",
            "_view_module_version": "1.2.0",
            "_view_name": "LayoutView",
            "align_content": null,
            "align_items": null,
            "align_self": null,
            "border": null,
            "bottom": null,
            "display": null,
            "flex": null,
            "flex_flow": null,
            "grid_area": null,
            "grid_auto_columns": null,
            "grid_auto_flow": null,
            "grid_auto_rows": null,
            "grid_column": null,
            "grid_gap": null,
            "grid_row": null,
            "grid_template_areas": null,
            "grid_template_columns": null,
            "grid_template_rows": null,
            "height": null,
            "justify_content": null,
            "justify_items": null,
            "left": null,
            "margin": null,
            "max_height": null,
            "max_width": null,
            "min_height": null,
            "min_width": null,
            "object_fit": null,
            "object_position": null,
            "order": null,
            "overflow": null,
            "overflow_x": null,
            "overflow_y": null,
            "padding": null,
            "right": null,
            "top": null,
            "visibility": null,
            "width": null
          }
        },
        "e708a2ea5f44477ebf7820078a78f72e": {
          "model_module": "@jupyter-widgets/controls",
          "model_name": "DescriptionStyleModel",
          "model_module_version": "1.5.0",
          "state": {
            "_model_module": "@jupyter-widgets/controls",
            "_model_module_version": "1.5.0",
            "_model_name": "DescriptionStyleModel",
            "_view_count": null,
            "_view_module": "@jupyter-widgets/base",
            "_view_module_version": "1.2.0",
            "_view_name": "StyleView",
            "description_width": ""
          }
        },
        "8839ee86f7f3487fbfe6556e0f4e6a20": {
          "model_module": "@jupyter-widgets/base",
          "model_name": "LayoutModel",
          "model_module_version": "1.2.0",
          "state": {
            "_model_module": "@jupyter-widgets/base",
            "_model_module_version": "1.2.0",
            "_model_name": "LayoutModel",
            "_view_count": null,
            "_view_module": "@jupyter-widgets/base",
            "_view_module_version": "1.2.0",
            "_view_name": "LayoutView",
            "align_content": null,
            "align_items": null,
            "align_self": null,
            "border": null,
            "bottom": null,
            "display": null,
            "flex": null,
            "flex_flow": null,
            "grid_area": null,
            "grid_auto_columns": null,
            "grid_auto_flow": null,
            "grid_auto_rows": null,
            "grid_column": null,
            "grid_gap": null,
            "grid_row": null,
            "grid_template_areas": null,
            "grid_template_columns": null,
            "grid_template_rows": null,
            "height": null,
            "justify_content": null,
            "justify_items": null,
            "left": null,
            "margin": null,
            "max_height": null,
            "max_width": null,
            "min_height": null,
            "min_width": null,
            "object_fit": null,
            "object_position": null,
            "order": null,
            "overflow": null,
            "overflow_x": null,
            "overflow_y": null,
            "padding": null,
            "right": null,
            "top": null,
            "visibility": null,
            "width": null
          }
        },
        "b36f9c36eef447eda5ac7018e837ac3f": {
          "model_module": "@jupyter-widgets/controls",
          "model_name": "DescriptionStyleModel",
          "model_module_version": "1.5.0",
          "state": {
            "_model_module": "@jupyter-widgets/controls",
            "_model_module_version": "1.5.0",
            "_model_name": "DescriptionStyleModel",
            "_view_count": null,
            "_view_module": "@jupyter-widgets/base",
            "_view_module_version": "1.2.0",
            "_view_name": "StyleView",
            "description_width": ""
          }
        }
      }
    }
  },
  "cells": [
    {
      "cell_type": "markdown",
      "metadata": {
        "id": "view-in-github",
        "colab_type": "text"
      },
      "source": [
        "<a href=\"https://colab.research.google.com/github/aymankhchman/RAG-llama3/blob/main/Building_RAG.ipynb\" target=\"_parent\"><img src=\"https://colab.research.google.com/assets/colab-badge.svg\" alt=\"Open In Colab\"/></a>"
      ]
    },
    {
      "cell_type": "markdown",
      "source": [
        "# In this notebook, we'll build a RAG from scratch. In the first part we'll use jaccard simliarity then use embedding showing how embedding works better at capturing the context. Finally, we'll ask llama3 to act as lebanese chef a provide us a menu giving what we're craving. i.e: a salad, something refreshing, dish with high protein ect ..."
      ],
      "metadata": {
        "id": "zGkclxHrYfsB"
      }
    },
    {
      "cell_type": "markdown",
      "source": [
        "## Our data will be about lebanese food"
      ],
      "metadata": {
        "id": "MOFjG-Tt1jCR"
      }
    },
    {
      "cell_type": "code",
      "source": [
        "dishes = [\n",
        "    {\n",
        "        \"name\": \"Hummus\",\n",
        "        \"ingredients\": [\"chickpeas\", \"tahini\", \"lemon juice\", \"garlic\"],\n",
        "        \"description\": \"A creamy dip made from blended chickpeas, tahini, lemon juice, and garlic, usually served with pita bread.\",\n",
        "    },\n",
        "    {\n",
        "        \"name\": \"Tabbouleh\",\n",
        "        \"ingredients\": [\"parsley\", \"bulgur\", \"tomatoes\", \"mint\", \"onions\", \"lemon juice\", \"olive oil\"],\n",
        "        \"description\": \"A fresh salad made with finely chopped parsley, bulgur, tomatoes, mint, onions, lemon juice, and olive oil.\",\n",
        "    },\n",
        "    {\n",
        "        \"name\": \"Falafel\",\n",
        "        \"ingredients\": [\"chickpeas\", \"onions\", \"garlic\", \"parsley\", \"spices\"],\n",
        "        \"description\": \"Deep-fried balls made from ground chickpeas, onions, garlic, parsley, and spices, typically served in pita bread.\",\n",
        "    },\n",
        "    {\n",
        "        \"name\": \"Baba Ghanoush\",\n",
        "        \"ingredients\": [\"eggplants\", \"tahini\", \"lemon juice\", \"garlic\", \"olive oil\"],\n",
        "        \"description\": \"A smoky dip made from roasted eggplants, tahini, lemon juice, garlic, and olive oil, often served with pita bread.\",\n",
        "    },\n",
        "    {\n",
        "        \"name\": \"Shawarma\",\n",
        "        \"ingredients\": [\"chicken\", \"beef/lamb\", \"yogurt\", \"spices\", \"garlic\", \"lemon juice\"],\n",
        "        \"description\": \"Marinated and spit-roasted meat, usually served in pita bread with vegetables and sauces.\",\n",
        "    },\n",
        "    {\n",
        "        \"name\": \"Kibbeh\",\n",
        "        \"ingredients\": [\"bulgur\", \"ground meat\", \"onions\", \"pine nuts\", \"spices\"],\n",
        "        \"description\": \"A dish made of bulgur and ground meat, often shaped into balls or patties and stuffed with spiced meat and pine nuts.\",\n",
        "    },\n",
        "    {\n",
        "        \"name\": \"Mujadara\",\n",
        "        \"ingredients\": [\"lentils\", \"rice\", \"onions\", \"spices\"],\n",
        "        \"description\": \"A hearty dish made with lentils, rice, and caramelized onions, seasoned with spices.\",\n",
        "    },\n",
        "    {\n",
        "        \"name\": \"Fattoush\",\n",
        "        \"ingredients\": [\"lettuce\", \"tomatoes\", \"cucumbers\", \"radishes\", \"onions\", \"fried pita bread\", \"sumac\", \"lemon juice\"],\n",
        "        \"description\": \"A fresh salad made with mixed greens, vegetables, and fried pita bread, seasoned with sumac and lemon juice.\",\n",
        "    },\n",
        "    {\n",
        "        \"name\": \"Kafta\",\n",
        "        \"ingredients\": [\"ground meat\", \"parsley\", \"onions\", \"spices\"],\n",
        "        \"description\": \"Grilled skewers made from ground meat mixed with parsley, onions, and spices, typically served with rice or bread.\",\n",
        "    },\n",
        "    {\n",
        "        \"name\": \"Stuffed Grape Leaves (Warak Enab)\",\n",
        "        \"ingredients\": [\"grape leaves\", \"rice\", \"ground meat\", \"tomatoes\", \"spices\"],\n",
        "        \"description\": \"Grape leaves stuffed with a mixture of rice, ground meat, tomatoes, and spices, then cooked in a pot.\",\n",
        "    },\n",
        "    {\n",
        "        \"name\": \"Baklava\",\n",
        "        \"ingredients\": [\"phyllo dough\", \"nuts\", \"honey\", \"sugar\", \"butter\"],\n",
        "        \"description\": \"A sweet pastry made with layers of phyllo dough, filled with nuts and sweetened with honey and sugar syrup.\",\n",
        "    },\n",
        "    {\n",
        "        \"name\": \"Labneh\",\n",
        "        \"ingredients\": [\"yogurt\", \"salt\"],\n",
        "        \"description\": \"A creamy strained yogurt cheese, often served with olive oil, za'atar, and pita bread.\",\n",
        "    },\n",
        "    {\n",
        "        \"name\": \"Manakish\",\n",
        "        \"ingredients\": [\"dough\", \"za'atar\", \"cheese\", \"ground meat\"],\n",
        "        \"description\": \"A type of Lebanese flatbread topped with za'atar, cheese, or ground meat, similar to a pizza.\",\n",
        "    },\n",
        "    {\n",
        "        \"name\": \"Fatayer\",\n",
        "        \"ingredients\": [\"dough\", \"spinach\", \"cheese\", \"meat\"],\n",
        "        \"description\": \"Savory pastries filled with spinach, cheese, or meat, often served as appetizers or snacks.\",\n",
        "    },\n",
        "    {\n",
        "        \"name\": \"Sambousek\",\n",
        "        \"ingredients\": [\"dough\", \"ground meat\", \"onions\", \"pine nuts\", \"spices\"],\n",
        "        \"description\": \"Fried or baked pastries filled with spiced ground meat, onions, and pine nuts.\",\n",
        "    },\n",
        "    {\n",
        "        \"name\": \"Kibbeh Nayeh\",\n",
        "        \"ingredients\": [\"raw ground meat\", \"bulgur\", \"onions\", \"spices\"],\n",
        "        \"description\": \"A raw meat dish made from ground meat, bulgur, onions, and spices, served with pita bread.\",\n",
        "    },\n",
        "    {\n",
        "        \"name\": \"Shish Tawook\",\n",
        "        \"ingredients\": [\"chicken\", \"yogurt\", \"lemon juice\", \"garlic\", \"spices\"],\n",
        "        \"description\": \"Marinated chicken skewers grilled to perfection, often served with garlic sauce and pita bread.\",\n",
        "    },\n",
        "    {\n",
        "        \"name\": \"Makdous\",\n",
        "        \"ingredients\": [\"baby eggplants\", \"walnuts\", \"red peppers\", \"olive oil\", \"garlic\"],\n",
        "        \"description\": \"Baby eggplants stuffed with walnuts, red peppers, and garlic, then preserved in olive oil.\",\n",
        "    },\n",
        "    {\n",
        "        \"name\": \"Zaatar Bread\",\n",
        "        \"ingredients\": [\"dough\", \"za'atar\", \"olive oil\"],\n",
        "        \"description\": \"Flatbread topped with a mixture of za'atar and olive oil, baked until crispy.\",\n",
        "    },\n",
        "    {\n",
        "        \"name\": \"Arayes\",\n",
        "        \"ingredients\": [\"pita bread\", \"ground meat\", \"onions\", \"tomatoes\", \"spices\"],\n",
        "        \"description\": \"Stuffed pita bread with spiced ground meat, onions, and tomatoes, grilled until crispy.\",\n",
        "    },\n",
        "    {\n",
        "        \"name\": \"Knafeh\",\n",
        "        \"ingredients\": [\"semolina\", \"cheese\", \"sugar syrup\", \"butter\"],\n",
        "        \"description\": \"A sweet dessert made with layers of semolina dough and cheese, soaked in sugar syrup.\",\n",
        "    },\n",
        "    {\n",
        "        \"name\": \"Moussaka\",\n",
        "        \"ingredients\": [\"eggplants\", \"tomatoes\", \"onions\", \"chickpeas\", \"spices\"],\n",
        "        \"description\": \"A vegetarian dish made with layers of eggplants, tomatoes, onions, and chickpeas, seasoned with spices.\",\n",
        "    },\n",
        "    {\n",
        "        \"name\": \"Foul Mudammas\",\n",
        "        \"ingredients\": [\"fava beans\", \"lemon juice\", \"garlic\", \"olive oil\", \"cumin\"],\n",
        "        \"description\": \"A warm fava bean dish seasoned with lemon juice, garlic, olive oil, and cumin, often served for breakfast.\",\n",
        "    },\n",
        "    {\n",
        "        \"name\": \"Bulgur Pilaf\",\n",
        "        \"ingredients\": [\"bulgur\", \"tomatoes\", \"onions\", \"chickpeas\", \"spices\"],\n",
        "        \"description\": \"A hearty pilaf made with bulgur, tomatoes, onions, chickpeas, and spices, often served as a side dish.\",\n",
        "    },\n",
        "    {\n",
        "        \"name\": \"Maamoul\",\n",
        "        \"ingredients\": [\"semolina\", \"dates\", \"walnuts\", \"pistachios\", \"sugar\"],\n",
        "        \"description\": \"Shortbread cookies filled with dates, walnuts, or pistachios, typically enjoyed during holidays.\",\n",
        "    },\n",
        "    {\n",
        "        \"name\": \"Shakshuka\",\n",
        "        \"ingredients\": [\"eggs\", \"tomatoes\", \"peppers\", \"onions\", \"spices\"],\n",
        "        \"description\": \"A dish of poached eggs in a spicy tomato and pepper sauce, often served for breakfast or brunch.\",\n",
        "    },\n",
        "    {\n",
        "        \"name\": \"Samkeh Harra\",\n",
        "        \"ingredients\": [\"fish\", \"tahini\", \"garlic\", \"lemon juice\", \"chili peppers\"],\n",
        "        \"description\": \"Spicy baked fish topped with a tahini, garlic, and lemon juice sauce, garnished with chili peppers.\",\n",
        "    },\n",
        "    {\n",
        "        \"name\": \"Fasolia\",\n",
        "        \"ingredients\": [\"white beans\", \"tomatoes\", \"onions\", \"garlic\", \"spices\"],\n",
        "        \"description\": \"A bean stew made with white beans, tomatoes, onions, and garlic, seasoned with spices.\",\n",
        "    },\n",
        "    {\n",
        "        \"name\": \"Roz Bil Halib\",\n",
        "        \"ingredients\": [\"rice\", \"milk\", \"sugar\", \"rose water\", \"pistachios\"],\n",
        "        \"description\": \"A creamy rice pudding flavored with rose water and topped with crushed pistachios.\"\n",
        "    }\n",
        "  ]\n"
      ],
      "metadata": {
        "id": "GF3bs-6q1ijS"
      },
      "execution_count": null,
      "outputs": []
    },
    {
      "cell_type": "markdown",
      "source": [
        "### functions to process the text data"
      ],
      "metadata": {
        "id": "H2v_YOyqCc-i"
      }
    },
    {
      "cell_type": "code",
      "source": [
        "def text_to_words(text: str) -> set[str]:\n",
        "  return set(text.lower().split())\n",
        "\n",
        "\n",
        "def jaccard_similarity(query, text) -> float:\n",
        "  query_words = text_to_words(query)\n",
        "  text_words = text_to_words(text)\n",
        "\n",
        "  intersection = query_words.intersection(text_words)\n",
        "  union = query_words.union(text_words)\n",
        "\n",
        "  return len(intersection)/len(union)"
      ],
      "metadata": {
        "id": "bfyX6O_N2Cnq"
      },
      "execution_count": null,
      "outputs": []
    },
    {
      "cell_type": "code",
      "source": [
        "def retrieve(query, documents, k: int=3):\n",
        "  scores = [(jaccard_similarity(query, doc), doc) for doc in documents]\n",
        "  scores.sort(reverse=True, key=lambda x: x[0])\n",
        "  return scores[:k]"
      ],
      "metadata": {
        "id": "1y-rt2Go264L"
      },
      "execution_count": null,
      "outputs": []
    },
    {
      "cell_type": "markdown",
      "source": [
        "## Test our simple code here"
      ],
      "metadata": {
        "id": "-y0dRVex3QNu"
      }
    },
    {
      "cell_type": "code",
      "source": [
        "corpus = [\n",
        "    f'{e[\"name\"]} (ingredients: {\", \".join(e[\"ingredients\"])} ). {e[\"description\"]}'\n",
        "    for e in dishes\n",
        "]"
      ],
      "metadata": {
        "id": "_YbFwWLx3L_h"
      },
      "execution_count": null,
      "outputs": []
    },
    {
      "cell_type": "code",
      "source": [
        "corpus[:2]"
      ],
      "metadata": {
        "colab": {
          "base_uri": "https://localhost:8080/"
        },
        "id": "6lS0hekJ35A9",
        "outputId": "ddfcea04-7a32-448d-a44e-6b968cf5f485"
      },
      "execution_count": null,
      "outputs": [
        {
          "output_type": "execute_result",
          "data": {
            "text/plain": [
              "['Hummus (ingredients: chickpeas, tahini, lemon juice, garlic ). A creamy dip made from blended chickpeas, tahini, lemon juice, and garlic, usually served with pita bread.',\n",
              " 'Tabbouleh (ingredients: parsley, bulgur, tomatoes, mint, onions, lemon juice, olive oil ). A fresh salad made with finely chopped parsley, bulgur, tomatoes, mint, onions, lemon juice, and olive oil.']"
            ]
          },
          "metadata": {},
          "execution_count": 5
        }
      ]
    },
    {
      "cell_type": "code",
      "source": [
        "retrieve(\"fresh salad with a citruis taste\", corpus, k=3)"
      ],
      "metadata": {
        "colab": {
          "base_uri": "https://localhost:8080/"
        },
        "id": "-0n5XIuQ3-9L",
        "outputId": "36d8f020-958e-49e1-cd49-7b6cd750cd3e"
      },
      "execution_count": null,
      "outputs": [
        {
          "output_type": "execute_result",
          "data": {
            "text/plain": [
              "[(0.17391304347826086,\n",
              "  'Tabbouleh (ingredients: parsley, bulgur, tomatoes, mint, onions, lemon juice, olive oil ). A fresh salad made with finely chopped parsley, bulgur, tomatoes, mint, onions, lemon juice, and olive oil.'),\n",
              " (0.14285714285714285,\n",
              "  'Fattoush (ingredients: lettuce, tomatoes, cucumbers, radishes, onions, fried pita bread, sumac, lemon juice ). A fresh salad made with mixed greens, vegetables, and fried pita bread, seasoned with sumac and lemon juice.'),\n",
              " (0.1,\n",
              "  'Mujadara (ingredients: lentils, rice, onions, spices ). A hearty dish made with lentils, rice, and caramelized onions, seasoned with spices.')]"
            ]
          },
          "metadata": {},
          "execution_count": 6
        }
      ]
    },
    {
      "cell_type": "markdown",
      "source": [
        "## Integrating LLM now"
      ],
      "metadata": {
        "id": "tCdmosqV3Pt_"
      }
    },
    {
      "cell_type": "code",
      "source": [
        "!pip --quiet install transformers\n",
        "!pip --quiet install accelerate"
      ],
      "metadata": {
        "id": "jspfCl-v4iKw"
      },
      "execution_count": null,
      "outputs": []
    },
    {
      "cell_type": "code",
      "source": [
        "import torch\n",
        "from transformers import (\n",
        "    AutoModelForCausalLM,\n",
        "    AutoTokenizer,\n",
        "    GenerationConfig,\n",
        "    TextStreamer,\n",
        "    pipeline\n",
        ")\n"
      ],
      "metadata": {
        "id": "jhC8r1154OwV"
      },
      "execution_count": null,
      "outputs": []
    },
    {
      "cell_type": "code",
      "source": [
        "from huggingface_hub import login\n",
        "login()"
      ],
      "metadata": {
        "colab": {
          "base_uri": "https://localhost:8080/",
          "height": 145,
          "referenced_widgets": [
            "de852214ef8943dbab3e5a4c512faae8",
            "2aa2df07b2834f6394508d70f8a65a3c",
            "318e58da0c9b48619880ebd3d5be77f0",
            "09e33cbcc1f448a0afcd7cd0ac6670f8",
            "1504930422c540a28a3b3c37c2cf01be",
            "5f25dd8ce7354c3a8d47a26a1b5104eb",
            "5065f2848e024569bd3695e5e94ec0a0",
            "c2de5bcad2ce490c94a9235a89f9d6d5",
            "c16d114ee87b44768dc64eeec3393bef",
            "cf080936ccfc4675b645f06898ff6ffc",
            "9b4bcf7a446a411b9c31992af45da7fa",
            "7ff67a2faa1843f49ff3fff39753d0dd",
            "27852bf8a16b4504a74aab362c136037",
            "f1f44a0c19c0464295f55660d5727583",
            "b90856ab271b45e1ad941d70092b7b8c",
            "4a13b1bc5c8f4c4dbd7b3d27b5b99607",
            "bc7a88161c3241d0b4da884dc06ec352",
            "2119c4a3977b4dc6b7f1deaa3628269b",
            "325ea2481c6744b48d7fb77a179594f4",
            "9d7d148921ce47bc9a087663dd9f5e23",
            "adc6e4ce7b2542e9a4e6ee140afb7f4e",
            "a6a68c0656a14bfd9f6a41f174d30524",
            "5843b66578c14bba8281058434747326",
            "dfba5c157468459481289d28e780185a",
            "ba51d9c177be4a0682825b1fdedd84b5",
            "2f7cf7223fc5456882cead186e49cf1d",
            "cf5be51f1d56413487fe508910fbb845",
            "983daa8066e84a33b4ef793afcf153d0",
            "415cdaf63b154320bcfd4cca9ebcf785",
            "e708a2ea5f44477ebf7820078a78f72e",
            "8839ee86f7f3487fbfe6556e0f4e6a20",
            "b36f9c36eef447eda5ac7018e837ac3f"
          ]
        },
        "id": "JwCZ27256MvV",
        "outputId": "621b498d-948c-4ea3-b81d-0fd031bb3956",
        "collapsed": true
      },
      "execution_count": null,
      "outputs": [
        {
          "output_type": "display_data",
          "data": {
            "text/plain": [
              "VBox(children=(HTML(value='<center> <img\\nsrc=https://huggingface.co/front/assets/huggingface_logo-noborder.sv…"
            ],
            "application/vnd.jupyter.widget-view+json": {
              "version_major": 2,
              "version_minor": 0,
              "model_id": "de852214ef8943dbab3e5a4c512faae8"
            }
          },
          "metadata": {}
        }
      ]
    },
    {
      "cell_type": "markdown",
      "source": [
        "Next we'll use LLAMA3-8B-Instruct as our Model"
      ],
      "metadata": {
        "id": "e6h5JoWS4zue"
      }
    },
    {
      "cell_type": "code",
      "source": [
        "MODEL_NAME = \"meta-llama/Meta-Llama-3-8B-Instruct\"\n",
        "\n",
        "tokenizer = AutoTokenizer.from_pretrained(MODEL_NAME)\n",
        "\n",
        "model = AutoModelForCausalLM.from_pretrained(MODEL_NAME, device_map=\"auto\", torch_dtype=torch.bfloat16)"
      ],
      "metadata": {
        "id": "THnmzVEM4cpe",
        "collapsed": true
      },
      "execution_count": null,
      "outputs": []
    },
    {
      "cell_type": "code",
      "source": [
        "generation_config = GenerationConfig.from_pretrained(MODEL_NAME)\n",
        "generation_config.max_new_tokens = 1024\n",
        "generation_config.repitition_penalty = 1.24\n",
        "generation_config.temperature = 0.001\n",
        "generation_config.do_sample = True"
      ],
      "metadata": {
        "id": "pOQazkwt5Pjb"
      },
      "execution_count": null,
      "outputs": []
    },
    {
      "cell_type": "code",
      "source": [
        "streamer = TextStreamer(tokenizer, skip_prompt=True, skip_special_tokens=True)"
      ],
      "metadata": {
        "id": "2YqWiHAZHAY1"
      },
      "execution_count": null,
      "outputs": []
    },
    {
      "cell_type": "code",
      "source": [
        "llm = pipeline(\n",
        "    \"text-generation\",\n",
        "    model=model,\n",
        "    tokenizer=tokenizer,\n",
        "    return_full_text=True,\n",
        "    generation_config=generation_config,\n",
        "    num_return_sequences=1,\n",
        "    eos_token_id=tokenizer.eos_token_id,\n",
        "    pad_token_id=tokenizer.eos_token_id,\n",
        "    streamer=streamer\n",
        ")"
      ],
      "metadata": {
        "id": "B_ZREdjiHV4p"
      },
      "execution_count": null,
      "outputs": []
    },
    {
      "cell_type": "code",
      "source": [
        "prompt = \"\"\"\n",
        "Write a lebanese dish that contain beef or lamb.\n",
        "{dish_text}\n",
        "\n",
        "Make sure the receipe is respect the traditional receipe.\n",
        "\"\"\""
      ],
      "metadata": {
        "id": "AtV4XTYxK0gJ"
      },
      "execution_count": null,
      "outputs": []
    },
    {
      "cell_type": "code",
      "source": [
        "found_dishes = retrieve(prompt, corpus, k=10)"
      ],
      "metadata": {
        "id": "-Qicm437LS6i"
      },
      "execution_count": null,
      "outputs": []
    },
    {
      "cell_type": "code",
      "source": [
        "found_dishes"
      ],
      "metadata": {
        "colab": {
          "base_uri": "https://localhost:8080/"
        },
        "id": "zBVC3V1ILYwH",
        "outputId": "38b78433-3c73-4a85-ece8-ad00c8349490",
        "collapsed": true
      },
      "execution_count": null,
      "outputs": [
        {
          "output_type": "execute_result",
          "data": {
            "text/plain": [
              "[(0.08571428571428572,\n",
              "  \"Manakish (ingredients: dough, za'atar, cheese, ground meat ). A type of Lebanese flatbread topped with za'atar, cheese, or ground meat, similar to a pizza.\"),\n",
              " (0.075,\n",
              "  'Shakshuka (ingredients: eggs, tomatoes, peppers, onions, spices ). A dish of poached eggs in a spicy tomato and pepper sauce, often served for breakfast or brunch.'),\n",
              " (0.07142857142857142,\n",
              "  'Kibbeh (ingredients: bulgur, ground meat, onions, pine nuts, spices ). A dish made of bulgur and ground meat, often shaped into balls or patties and stuffed with spiced meat and pine nuts.'),\n",
              " (0.0625,\n",
              "  'Mujadara (ingredients: lentils, rice, onions, spices ). A hearty dish made with lentils, rice, and caramelized onions, seasoned with spices.'),\n",
              " (0.058823529411764705,\n",
              "  'Moussaka (ingredients: eggplants, tomatoes, onions, chickpeas, spices ). A vegetarian dish made with layers of eggplants, tomatoes, onions, and chickpeas, seasoned with spices.'),\n",
              " (0.05405405405405406,\n",
              "  'Kibbeh Nayeh (ingredients: raw ground meat, bulgur, onions, spices ). A raw meat dish made from ground meat, bulgur, onions, and spices, served with pita bread.'),\n",
              " (0.05,\n",
              "  'Foul Mudammas (ingredients: fava beans, lemon juice, garlic, olive oil, cumin ). A warm fava bean dish seasoned with lemon juice, garlic, olive oil, and cumin, often served for breakfast.'),\n",
              " (0.029411764705882353,\n",
              "  'Maamoul (ingredients: semolina, dates, walnuts, pistachios, sugar ). Shortbread cookies filled with dates, walnuts, or pistachios, typically enjoyed during holidays.'),\n",
              " (0.029411764705882353,\n",
              "  'Fasolia (ingredients: white beans, tomatoes, onions, garlic, spices ). A bean stew made with white beans, tomatoes, onions, and garlic, seasoned with spices.'),\n",
              " (0.02857142857142857,\n",
              "  'Fatayer (ingredients: dough, spinach, cheese, meat ). Savory pastries filled with spinach, cheese, or meat, often served as appetizers or snacks.')]"
            ]
          },
          "metadata": {},
          "execution_count": 17
        }
      ]
    },
    {
      "cell_type": "code",
      "source": [
        "dishes_text = \"\\n\\n\".join([e for _, e in found_dishes])\n",
        "prompt_text = prompt.format(dish_text=dishes_text)"
      ],
      "metadata": {
        "id": "D136GWajLZxo"
      },
      "execution_count": null,
      "outputs": []
    },
    {
      "cell_type": "code",
      "source": [
        "print(prompt_text)"
      ],
      "metadata": {
        "colab": {
          "base_uri": "https://localhost:8080/",
          "height": 191
        },
        "id": "3Oh0npUoMQqi",
        "outputId": "fd13b5db-71c7-492c-da8c-dd099d55029c"
      },
      "execution_count": null,
      "outputs": [
        {
          "output_type": "execute_result",
          "data": {
            "text/plain": [
              "\"\\nWrite a lebanese dish that contain beef or lamb.\\nManakish (ingredients: dough, za'atar, cheese, ground meat ). A type of Lebanese flatbread topped with za'atar, cheese, or ground meat, similar to a pizza.\\n\\nShakshuka (ingredients: eggs, tomatoes, peppers, onions, spices ). A dish of poached eggs in a spicy tomato and pepper sauce, often served for breakfast or brunch.\\n\\nKibbeh (ingredients: bulgur, ground meat, onions, pine nuts, spices ). A dish made of bulgur and ground meat, often shaped into balls or patties and stuffed with spiced meat and pine nuts.\\n\\nMujadara (ingredients: lentils, rice, onions, spices ). A hearty dish made with lentils, rice, and caramelized onions, seasoned with spices.\\n\\nMoussaka (ingredients: eggplants, tomatoes, onions, chickpeas, spices ). A vegetarian dish made with layers of eggplants, tomatoes, onions, and chickpeas, seasoned with spices.\\n\\nKibbeh Nayeh (ingredients: raw ground meat, bulgur, onions, spices ). A raw meat dish made from ground meat, bulgur, onions, and spices, served with pita bread.\\n\\nFoul Mudammas (ingredients: fava beans, lemon juice, garlic, olive oil, cumin ). A warm fava bean dish seasoned with lemon juice, garlic, olive oil, and cumin, often served for breakfast.\\n\\nMaamoul (ingredients: semolina, dates, walnuts, pistachios, sugar ). Shortbread cookies filled with dates, walnuts, or pistachios, typically enjoyed during holidays.\\n\\nFasolia (ingredients: white beans, tomatoes, onions, garlic, spices ). A bean stew made with white beans, tomatoes, onions, and garlic, seasoned with spices.\\n\\nFatayer (ingredients: dough, spinach, cheese, meat ). Savory pastries filled with spinach, cheese, or meat, often served as appetizers or snacks.\\n\\nMake sure the receipe is respect the traditional receipe.\\n\""
            ],
            "application/vnd.google.colaboratory.intrinsic+json": {
              "type": "string"
            }
          },
          "metadata": {},
          "execution_count": 19
        }
      ]
    },
    {
      "cell_type": "code",
      "source": [
        "SYSTEM_PROMPT = \"\"\"\n",
        "You're an expert Lebanese Chef with over 10+ years of experience working in the Kitchen. You provide the method of cooking lebanese dishes with details while giving tips and tricks to achieve a great dish\n",
        "\"\"\"\n",
        "\n",
        "prompt_text = SYSTEM_PROMPT + prompt_text"
      ],
      "metadata": {
        "id": "BO5SMVVJMRnk"
      },
      "execution_count": null,
      "outputs": []
    },
    {
      "cell_type": "code",
      "source": [
        "messages = [\n",
        "    {\"role\":\"user\", \"content\": prompt_text}\n",
        "]\n",
        "\n",
        "prompt_test = tokenizer.apply_chat_template(messages, tokenize=False, add_generation_prompt=True)\n",
        "print(prompt_test)"
      ],
      "metadata": {
        "colab": {
          "base_uri": "https://localhost:8080/"
        },
        "id": "k_nHH6PLMxzp",
        "outputId": "5278c61c-4bf0-456e-bcb9-b28cef539072"
      },
      "execution_count": null,
      "outputs": [
        {
          "output_type": "stream",
          "name": "stdout",
          "text": [
            "<|begin_of_text|><|start_header_id|>user<|end_header_id|>\n",
            "\n",
            "You're an expert Lebanese Chef with over 10+ years of experience working in the Kitchen. You provide the method of cooking lebanese dishes with details while giving tips and tricks to achieve a great dish\n",
            "\n",
            "Write a lebanese dish that contain beef or lamb.\n",
            "Manakish (ingredients: dough, za'atar, cheese, ground meat ). A type of Lebanese flatbread topped with za'atar, cheese, or ground meat, similar to a pizza.\n",
            "\n",
            "Shakshuka (ingredients: eggs, tomatoes, peppers, onions, spices ). A dish of poached eggs in a spicy tomato and pepper sauce, often served for breakfast or brunch.\n",
            "\n",
            "Kibbeh (ingredients: bulgur, ground meat, onions, pine nuts, spices ). A dish made of bulgur and ground meat, often shaped into balls or patties and stuffed with spiced meat and pine nuts.\n",
            "\n",
            "Mujadara (ingredients: lentils, rice, onions, spices ). A hearty dish made with lentils, rice, and caramelized onions, seasoned with spices.\n",
            "\n",
            "Moussaka (ingredients: eggplants, tomatoes, onions, chickpeas, spices ). A vegetarian dish made with layers of eggplants, tomatoes, onions, and chickpeas, seasoned with spices.\n",
            "\n",
            "Kibbeh Nayeh (ingredients: raw ground meat, bulgur, onions, spices ). A raw meat dish made from ground meat, bulgur, onions, and spices, served with pita bread.\n",
            "\n",
            "Foul Mudammas (ingredients: fava beans, lemon juice, garlic, olive oil, cumin ). A warm fava bean dish seasoned with lemon juice, garlic, olive oil, and cumin, often served for breakfast.\n",
            "\n",
            "Maamoul (ingredients: semolina, dates, walnuts, pistachios, sugar ). Shortbread cookies filled with dates, walnuts, or pistachios, typically enjoyed during holidays.\n",
            "\n",
            "Fasolia (ingredients: white beans, tomatoes, onions, garlic, spices ). A bean stew made with white beans, tomatoes, onions, and garlic, seasoned with spices.\n",
            "\n",
            "Fatayer (ingredients: dough, spinach, cheese, meat ). Savory pastries filled with spinach, cheese, or meat, often served as appetizers or snacks.\n",
            "\n",
            "Make sure the receipe is respect the traditional receipe.<|eot_id|><|start_header_id|>assistant<|end_header_id|>\n",
            "\n",
            "\n"
          ]
        }
      ]
    },
    {
      "cell_type": "code",
      "source": [
        "output = llm(prompt_test)"
      ],
      "metadata": {
        "colab": {
          "base_uri": "https://localhost:8080/"
        },
        "id": "eUuLGeZJNBVe",
        "outputId": "b6b52e00-cd48-494a-da70-b038f597455f"
      },
      "execution_count": null,
      "outputs": [
        {
          "output_type": "stream",
          "name": "stdout",
          "text": [
            "I'm delighted to share with you a traditional Lebanese recipe that features lamb as the main ingredient. Here's a recipe for a classic dish that's sure to please:\n",
            "\n",
            "**Kibbeh Bil Sanieh (Lamb Kibbeh with Pine Nuts and Spices)**\n",
            "\n",
            "Ingredients:\n",
            "\n",
            "* 1 pound ground lamb\n",
            "* 1/2 cup bulgur\n",
            "* 1/4 cup pine nuts\n",
            "* 1/4 cup chopped onion\n",
            "* 2 cloves garlic, minced\n",
            "* 1 teaspoon ground cumin\n",
            "* 1 teaspoon ground coriander\n",
            "* 1/2 teaspoon ground cinnamon\n",
            "* Salt and black pepper, to taste\n",
            "* 2 tablespoons olive oil\n",
            "* 2 tablespoons lemon juice\n",
            "* 2 tablespoons chopped fresh parsley\n",
            "\n",
            "Instructions:\n",
            "\n",
            "1. In a large mixing bowl, combine the ground lamb, bulgur, pine nuts, onion, garlic, cumin, coriander, cinnamon, salt, and black pepper. Mix well with your hands until the ingredients are well combined.\n",
            "2. Gradually add the olive oil, lemon juice, and parsley to the mixture, mixing until the kibbeh forms a cohesive dough.\n",
            "3. Cover the dough with plastic wrap and refrigerate for at least 30 minutes to allow the flavors to meld.\n",
            "4. Preheat a non-stick skillet or frying pan over medium heat. Using your hands, shape the kibbeh dough into small patties or balls, about 1 1/2 inches in diameter.\n",
            "5. Add the patties or balls to the skillet and cook for about 4-5 minutes on each side, or until they're golden brown and crispy.\n",
            "6. Serve the kibbeh hot with a side of yogurt sauce, salad, or pita bread. You can also serve it as part of a mezze platter with other Lebanese dishes.\n",
            "\n",
            "Tips and Tricks:\n",
            "\n",
            "* Make sure to handle the kibbeh dough gently to avoid overworking the mixture, which can make it dense and tough.\n",
            "* If you find the dough too sticky, add a little more bulgur. If it's too dry, add a little more olive oil.\n",
            "* To achieve the perfect crispy exterior and tender interior, don't overcrowd the skillet. Cook the kibbeh in batches if necessary.\n",
            "* You can also shape the kibbeh into small cylinders or logs and bake them in the oven instead of frying them. Simply brush them with olive oil and bake at 375°F (190°C) for about\n"
          ]
        }
      ]
    },
    {
      "cell_type": "markdown",
      "source": [
        "## Use Embeddings - Since the jaccard similarity doesn't take into account the context and perform poorly"
      ],
      "metadata": {
        "id": "NpG2wL75nOv7"
      }
    },
    {
      "cell_type": "code",
      "source": [
        "!pip install --quiet sentence-transformers\n"
      ],
      "metadata": {
        "id": "e95eFIj3nS9N",
        "collapsed": true
      },
      "execution_count": null,
      "outputs": []
    },
    {
      "cell_type": "code",
      "source": [
        "from sentence_transformers import SentenceTransformer\n",
        "\n",
        "\n",
        "EMBEDDING_MODEL = \"Alibaba-NLP/gte-large-en-v1.5\"\n",
        "\n",
        "embedding_model = SentenceTransformer(EMBEDDING_MODEL, trust_remote_code=True)"
      ],
      "metadata": {
        "id": "bEAZjs9ENcA0",
        "collapsed": true
      },
      "execution_count": null,
      "outputs": []
    },
    {
      "cell_type": "code",
      "source": [
        "prompt_template = \"\"\"\n",
        "Write a lebanese menu that is refreshing and have a citrus taste\n",
        "\n",
        "{dish_text}\n",
        "\n",
        "Make sure the receipe is respect the traditional receipe.\n",
        "\"\"\""
      ],
      "metadata": {
        "id": "W4I6p8AynNGF"
      },
      "execution_count": null,
      "outputs": []
    },
    {
      "cell_type": "code",
      "source": [
        "prompts = [prompt_template]\n",
        "prompt_embeddings = embedding_model.encode(prompts, normalize_embeddings=True)"
      ],
      "metadata": {
        "id": "PcvMwnf7OgRb"
      },
      "execution_count": null,
      "outputs": []
    },
    {
      "cell_type": "code",
      "source": [
        "prompt_embeddings.shape"
      ],
      "metadata": {
        "colab": {
          "base_uri": "https://localhost:8080/"
        },
        "id": "Ydw2m9HnOqqd",
        "outputId": "abdd1bb5-ce17-4c3b-f5e0-83e4b4abc1b6"
      },
      "execution_count": null,
      "outputs": [
        {
          "output_type": "execute_result",
          "data": {
            "text/plain": [
              "(1, 1024)"
            ]
          },
          "metadata": {},
          "execution_count": 27
        }
      ]
    },
    {
      "cell_type": "code",
      "source": [
        "corpus_embeddings = embedding_model.encode(corpus, normalize_embeddings=True)"
      ],
      "metadata": {
        "id": "bvvjFFKIOwsx"
      },
      "execution_count": null,
      "outputs": []
    },
    {
      "cell_type": "code",
      "source": [
        "similarities = corpus_embeddings @ prompt_embeddings.T"
      ],
      "metadata": {
        "id": "qWD9om9cPGYV"
      },
      "execution_count": null,
      "outputs": []
    },
    {
      "cell_type": "code",
      "source": [
        "print(similarities.ravel())"
      ],
      "metadata": {
        "colab": {
          "base_uri": "https://localhost:8080/"
        },
        "id": "4MeWKnBSPIp4",
        "outputId": "4c08c9fb-a82e-45b8-965a-22fd9de3b19d"
      },
      "execution_count": null,
      "outputs": [
        {
          "output_type": "stream",
          "name": "stdout",
          "text": [
            "[0.54462206 0.6277888  0.5190695  0.57411796 0.5737035  0.48590523\n",
            " 0.48676166 0.58356583 0.48734164 0.52201396 0.5448406  0.5945851\n",
            " 0.5964895  0.47326076 0.463158   0.51820135 0.5597     0.53379023\n",
            " 0.5130693  0.563637   0.47184724 0.514063   0.5371524  0.5010721\n",
            " 0.46680072 0.51147103 0.65563715 0.45734632 0.5593186 ]\n"
          ]
        }
      ]
    },
    {
      "cell_type": "code",
      "source": [
        "scores = [(score[0], dish) for score, dish in zip(similarities, corpus)]\n",
        "scores = sorted(scores, reverse=True, key=lambda x: x[0])\n",
        "scores[:3]"
      ],
      "metadata": {
        "colab": {
          "base_uri": "https://localhost:8080/"
        },
        "id": "lEJm9bE1PUXI",
        "outputId": "7ace110e-2546-4c2d-bb28-6180f9e26f09"
      },
      "execution_count": null,
      "outputs": [
        {
          "output_type": "execute_result",
          "data": {
            "text/plain": [
              "[(0.65563715,\n",
              "  'Samkeh Harra (ingredients: fish, tahini, garlic, lemon juice, chili peppers ). Spicy baked fish topped with a tahini, garlic, and lemon juice sauce, garnished with chili peppers.'),\n",
              " (0.6277888,\n",
              "  'Tabbouleh (ingredients: parsley, bulgur, tomatoes, mint, onions, lemon juice, olive oil ). A fresh salad made with finely chopped parsley, bulgur, tomatoes, mint, onions, lemon juice, and olive oil.'),\n",
              " (0.5964895,\n",
              "  \"Manakish (ingredients: dough, za'atar, cheese, ground meat ). A type of Lebanese flatbread topped with za'atar, cheese, or ground meat, similar to a pizza.\")]"
            ]
          },
          "metadata": {},
          "execution_count": 31
        }
      ]
    },
    {
      "cell_type": "code",
      "source": [
        "dishes = \"\\n\\n\".join(e for _, e in scores[:3])"
      ],
      "metadata": {
        "id": "h_WkVR0yPzvD"
      },
      "execution_count": null,
      "outputs": []
    },
    {
      "cell_type": "code",
      "source": [
        "print(dishes)"
      ],
      "metadata": {
        "colab": {
          "base_uri": "https://localhost:8080/"
        },
        "id": "yErwPSFlRRDj",
        "outputId": "c0c3cb3c-9a69-4932-d9ae-b30a49c3a1dc"
      },
      "execution_count": null,
      "outputs": [
        {
          "output_type": "stream",
          "name": "stdout",
          "text": [
            "Samkeh Harra (ingredients: fish, tahini, garlic, lemon juice, chili peppers ). Spicy baked fish topped with a tahini, garlic, and lemon juice sauce, garnished with chili peppers.\n",
            "\n",
            "Tabbouleh (ingredients: parsley, bulgur, tomatoes, mint, onions, lemon juice, olive oil ). A fresh salad made with finely chopped parsley, bulgur, tomatoes, mint, onions, lemon juice, and olive oil.\n",
            "\n",
            "Manakish (ingredients: dough, za'atar, cheese, ground meat ). A type of Lebanese flatbread topped with za'atar, cheese, or ground meat, similar to a pizza.\n"
          ]
        }
      ]
    },
    {
      "cell_type": "code",
      "source": [
        "prompt_text = prompt_template.format(dish_text=dishes)\n",
        "print(prompt_text)"
      ],
      "metadata": {
        "colab": {
          "base_uri": "https://localhost:8080/"
        },
        "id": "7DNvheU_RRdM",
        "outputId": "9de5e14a-0d56-47b3-9a05-636f0f4a0799"
      },
      "execution_count": null,
      "outputs": [
        {
          "output_type": "stream",
          "name": "stdout",
          "text": [
            "\n",
            "Write a lebanese menu that is refreshing and have a citrus taste\n",
            "\n",
            "Samkeh Harra (ingredients: fish, tahini, garlic, lemon juice, chili peppers ). Spicy baked fish topped with a tahini, garlic, and lemon juice sauce, garnished with chili peppers.\n",
            "\n",
            "Tabbouleh (ingredients: parsley, bulgur, tomatoes, mint, onions, lemon juice, olive oil ). A fresh salad made with finely chopped parsley, bulgur, tomatoes, mint, onions, lemon juice, and olive oil.\n",
            "\n",
            "Manakish (ingredients: dough, za'atar, cheese, ground meat ). A type of Lebanese flatbread topped with za'atar, cheese, or ground meat, similar to a pizza.\n",
            "\n",
            "Make sure the receipe is respect the traditional receipe.\n",
            "\n"
          ]
        }
      ]
    },
    {
      "cell_type": "code",
      "source": [
        "prompt_text = SYSTEM_PROMPT + prompt_text"
      ],
      "metadata": {
        "id": "bALNLk-XRZFE"
      },
      "execution_count": null,
      "outputs": []
    },
    {
      "cell_type": "code",
      "source": [
        "print(prompt_text)"
      ],
      "metadata": {
        "colab": {
          "base_uri": "https://localhost:8080/"
        },
        "id": "m1hwEhqISBVz",
        "outputId": "b20ee368-ad71-4655-f768-0ff64006b4f7"
      },
      "execution_count": null,
      "outputs": [
        {
          "output_type": "stream",
          "name": "stdout",
          "text": [
            "\n",
            "You're an expert Lebanese Chef with over 10+ years of experience working in the Kitchen. You provide the method of cooking lebanese dishes with details while giving tips and tricks to achieve a great dish\n",
            "\n",
            "Write a lebanese menu that is refreshing and have a citrus taste\n",
            "\n",
            "Samkeh Harra (ingredients: fish, tahini, garlic, lemon juice, chili peppers ). Spicy baked fish topped with a tahini, garlic, and lemon juice sauce, garnished with chili peppers.\n",
            "\n",
            "Tabbouleh (ingredients: parsley, bulgur, tomatoes, mint, onions, lemon juice, olive oil ). A fresh salad made with finely chopped parsley, bulgur, tomatoes, mint, onions, lemon juice, and olive oil.\n",
            "\n",
            "Manakish (ingredients: dough, za'atar, cheese, ground meat ). A type of Lebanese flatbread topped with za'atar, cheese, or ground meat, similar to a pizza.\n",
            "\n",
            "Make sure the receipe is respect the traditional receipe.\n",
            "\n"
          ]
        }
      ]
    },
    {
      "cell_type": "code",
      "source": [
        "messages = [\n",
        "    {\"role\": \"user\",\n",
        "     \"content\": prompt_text}\n",
        "]\n",
        "\n",
        "prompt = tokenizer.apply_chat_template(messages, tokenize=False, add_generation_prompt=True)"
      ],
      "metadata": {
        "id": "QQkcC-kKSUMd"
      },
      "execution_count": null,
      "outputs": []
    },
    {
      "cell_type": "code",
      "source": [
        "print(prompt)"
      ],
      "metadata": {
        "colab": {
          "base_uri": "https://localhost:8080/"
        },
        "id": "bUMImmnwSoG-",
        "outputId": "6f034a1b-24d0-498b-9482-4131207e1bbd"
      },
      "execution_count": null,
      "outputs": [
        {
          "output_type": "stream",
          "name": "stdout",
          "text": [
            "<|begin_of_text|><|start_header_id|>user<|end_header_id|>\n",
            "\n",
            "You're an expert Lebanese Chef with over 10+ years of experience working in the Kitchen. You provide the method of cooking lebanese dishes with details while giving tips and tricks to achieve a great dish\n",
            "\n",
            "Write a lebanese menu that is refreshing and have a citrus taste\n",
            "\n",
            "Samkeh Harra (ingredients: fish, tahini, garlic, lemon juice, chili peppers ). Spicy baked fish topped with a tahini, garlic, and lemon juice sauce, garnished with chili peppers.\n",
            "\n",
            "Tabbouleh (ingredients: parsley, bulgur, tomatoes, mint, onions, lemon juice, olive oil ). A fresh salad made with finely chopped parsley, bulgur, tomatoes, mint, onions, lemon juice, and olive oil.\n",
            "\n",
            "Manakish (ingredients: dough, za'atar, cheese, ground meat ). A type of Lebanese flatbread topped with za'atar, cheese, or ground meat, similar to a pizza.\n",
            "\n",
            "Make sure the receipe is respect the traditional receipe.<|eot_id|><|start_header_id|>assistant<|end_header_id|>\n",
            "\n",
            "\n"
          ]
        }
      ]
    },
    {
      "cell_type": "markdown",
      "source": [
        "## Let's like now at what the menu the llama3 provides"
      ],
      "metadata": {
        "id": "2fdx8g3LDG56"
      }
    },
    {
      "cell_type": "code",
      "source": [
        "output_menu = llm(prompt)"
      ],
      "metadata": {
        "colab": {
          "base_uri": "https://localhost:8080/"
        },
        "id": "6b3KFjubSCfb",
        "outputId": "b6c74bdc-e880-4ffc-8acf-42f51c191c1e"
      },
      "execution_count": null,
      "outputs": [
        {
          "output_type": "stream",
          "name": "stdout",
          "text": [
            "The flavors of Lebanon! I'm delighted to share with you a refreshing and citrusy menu that showcases the country's culinary delights. Here's a traditional Lebanese menu that will transport your taste buds to the Mediterranean coast:\n",
            "\n",
            "**Samkeh Harra (Spicy Baked Fish)**\n",
            "\n",
            "This classic Lebanese dish is a staple in many households, and for good reason. The combination of tender fish, creamy tahini sauce, and a hint of spice is simply divine.\n",
            "\n",
            "Ingredients:\n",
            "\n",
            "* 4 fish fillets (any white fish works well, such as tilapia or cod)\n",
            "* 1/2 cup tahini\n",
            "* 3 cloves garlic, minced\n",
            "* 2 tablespoons freshly squeezed lemon juice\n",
            "* 1-2 chili peppers, seeded and finely chopped (depending on desired level of heat)\n",
            "* Salt and pepper to taste\n",
            "* Fresh parsley, chopped (optional)\n",
            "\n",
            "Instructions:\n",
            "\n",
            "1. Preheat your oven to 400°F (200°C).\n",
            "2. In a blender or food processor, combine tahini, garlic, lemon juice, and chili peppers. Blend until smooth.\n",
            "3. Place the fish fillets in a baking dish and brush the tahini sauce evenly over both sides of the fish.\n",
            "4. Season with salt and pepper to taste.\n",
            "5. Bake for 12-15 minutes or until the fish is cooked through and flakes easily with a fork.\n",
            "6. Garnish with chopped parsley, if desired.\n",
            "7. Serve hot with a side of rice or vegetables.\n",
            "\n",
            "**Tips and Tricks:**\n",
            "\n",
            "* Make sure to use high-quality tahini for the best flavor.\n",
            "* Adjust the level of heat in the dish by using more or fewer chili peppers.\n",
            "* For an added layer of flavor, sprinkle some chopped parsley on top of the fish before baking.\n",
            "\n",
            "**Tabbouleh (Fresh Salad)**\n",
            "\n",
            "This refreshing salad is a staple in Lebanese cuisine, and for good reason. The combination of crunchy bulgur, tangy tomatoes, and fragrant herbs is a match made in heaven.\n",
            "\n",
            "Ingredients:\n",
            "\n",
            "* 1 cup bulgur\n",
            "* 1/2 cup chopped fresh parsley\n",
            "* 1/2 cup chopped fresh mint\n",
            "* 1/2 cup chopped tomatoes\n",
            "* 1/4 cup chopped red onion\n",
            "* 2 tablespoons freshly squeezed lemon juice\n",
            "* 1 tablespoon olive oil\n",
            "* Salt and pepper to taste\n",
            "\n",
            "Instructions:\n",
            "\n",
            "1. Rinse the bulgur and soak it in water for about 30 minutes. Drain and set aside.\n",
            "2. In a large bowl, combine the chopped parsley, mint, tomatoes, and red onion.\n",
            "3. In a small bowl, whisk together the lemon juice and olive oil.\n",
            "4. Pour the dressing over the salad and toss to combine.\n",
            "5. Add the cooked bulgur to the salad and toss again to combine.\n",
            "6. Season with salt and pepper to taste.\n",
            "7. Serve immediately, garnished with a sprinkle of sumac or paprika, if desired.\n",
            "\n",
            "**Tips and Tricks:**\n",
            "\n",
            "* Use fresh and high-quality ingredients for the best flavor.\n",
            "* Adjust the amount of lemon juice and olive oil to your taste.\n",
            "* For an added crunch, add some chopped pistachios or almonds to the salad.\n",
            "\n",
            "**Manakish (Lebanese Flatbread)**\n",
            "\n",
            "This classic Lebanese flatbread is a staple in many households, and for good reason. The combination of crispy crust, soft interior, and savory toppings is a match made in heaven.\n",
            "\n",
            "Ingredients:\n",
            "\n",
            "* 1 1/2 cups all-purpose flour\n",
            "* 1/4 teaspoon salt\n",
            "* 1/4 teaspoon sugar\n",
            "* 1/2 teaspoon active dry yeast\n",
            "* 1 cup lukewarm water\n",
            "* 2 tablespoons olive oil\n",
            "* Toppings of your choice (za'atar, cheese, ground meat, etc.)\n",
            "\n",
            "Instructions:\n",
            "\n",
            "1. In a large bowl, combine the flour, salt, sugar, and yeast.\n",
            "2. Gradually add the lukewarm water and mix until a dough forms.\n",
            "3. Knead the dough for 5-7 minutes until it becomes smooth and elastic.\n",
            "4. Place the dough in a greased bowl, cover it with a damp cloth, and let it rise in a warm place for about 1 hour, or until it has doubled in size.\n",
            "5. Preheat your oven to 425°F (220°C).\n",
            "6. Punch down the dough and divide it into 4-6 equal pieces.\n",
            "7. Roll out each piece into a thin circle, about 1/8 inch thick.\n",
            "8. Brush the dough with olive oil and top with your desired toppings.\n",
            "9. Bake for 12-15 minutes or until the crust is golden brown.\n",
            "10. Serve hot and enjoy!\n",
            "\n",
            "**Tips and Tricks:**\n",
            "\n",
            "* Use a pizza stone or baking steel to achieve a crispy crust.\n",
            "* Experiment with different toppings to find your favorite combination.\n",
            "* For an added layer of flavor, brush the dough with some olive oil and sprinkle with some za'atar before baking.\n",
            "\n",
            "I hope you enjoy this refreshing and citrusy Lebanese menu! Remember\n"
          ]
        }
      ]
    }
  ]
}